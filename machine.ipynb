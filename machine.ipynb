{
 "cells": [
  {
   "cell_type": "code",
   "execution_count": 1,
   "metadata": {},
   "outputs": [],
   "source": [
    "from sklearn import datasets\n",
    "from sklearn.model_selection import train_test_split\n",
    "import seaborn as sns\n",
    "import matplotlib.pyplot as plt\n",
    "from sklearn.metrics import confusion_matrix, accuracy_score, f1_score, classification_report\n",
    "from keras.models import Sequential\n",
    "from keras.layers import Dense, Input, Dropout\n",
    "from keras.utils import to_categorical\n",
    "from sklearn.preprocessing import StandardScaler\n",
    "from keras.callbacks import EarlyStopping\n",
    "import numpy as np\n"
   ]
  },
  {
   "cell_type": "markdown",
   "metadata": {},
   "source": [
    "CARREGO A BASE DE DADOS E SEPARO OS PROVISORES DA CLASSE"
   ]
  },
  {
   "cell_type": "code",
   "execution_count": 2,
   "metadata": {},
   "outputs": [
    {
     "data": {
      "text/plain": [
       "array([0, 0, 0, 0, 0, 0, 0, 0, 0, 0, 0, 0, 0, 0, 0, 0, 0, 0, 0, 0, 0, 0,\n",
       "       0, 0, 0, 0, 0, 0, 0, 0, 0, 0, 0, 0, 0, 0, 0, 0, 0, 0, 0, 0, 0, 0,\n",
       "       0, 0, 0, 0, 0, 0, 1, 1, 1, 1, 1, 1, 1, 1, 1, 1, 1, 1, 1, 1, 1, 1,\n",
       "       1, 1, 1, 1, 1, 1, 1, 1, 1, 1, 1, 1, 1, 1, 1, 1, 1, 1, 1, 1, 1, 1,\n",
       "       1, 1, 1, 1, 1, 1, 1, 1, 1, 1, 1, 1, 2, 2, 2, 2, 2, 2, 2, 2, 2, 2,\n",
       "       2, 2, 2, 2, 2, 2, 2, 2, 2, 2, 2, 2, 2, 2, 2, 2, 2, 2, 2, 2, 2, 2,\n",
       "       2, 2, 2, 2, 2, 2, 2, 2, 2, 2, 2, 2, 2, 2, 2, 2, 2, 2])"
      ]
     },
     "execution_count": 2,
     "metadata": {},
     "output_type": "execute_result"
    }
   ],
   "source": [
    "base = datasets.load_iris()\n",
    "previsores = base.data\n",
    "classe = base.target\n",
    "classe"
   ]
  },
  {
   "cell_type": "markdown",
   "metadata": {},
   "source": [
    "Transformando os rótulos das classes em representação one-hot encoding"
   ]
  },
  {
   "cell_type": "code",
   "execution_count": 3,
   "metadata": {},
   "outputs": [
    {
     "data": {
      "text/plain": [
       "array([[1., 0., 0.],\n",
       "       [1., 0., 0.],\n",
       "       [1., 0., 0.],\n",
       "       [1., 0., 0.],\n",
       "       [1., 0., 0.],\n",
       "       [1., 0., 0.],\n",
       "       [1., 0., 0.],\n",
       "       [1., 0., 0.],\n",
       "       [1., 0., 0.],\n",
       "       [1., 0., 0.],\n",
       "       [1., 0., 0.],\n",
       "       [1., 0., 0.],\n",
       "       [1., 0., 0.],\n",
       "       [1., 0., 0.],\n",
       "       [1., 0., 0.],\n",
       "       [1., 0., 0.],\n",
       "       [1., 0., 0.],\n",
       "       [1., 0., 0.],\n",
       "       [1., 0., 0.],\n",
       "       [1., 0., 0.],\n",
       "       [1., 0., 0.],\n",
       "       [1., 0., 0.],\n",
       "       [1., 0., 0.],\n",
       "       [1., 0., 0.],\n",
       "       [1., 0., 0.],\n",
       "       [1., 0., 0.],\n",
       "       [1., 0., 0.],\n",
       "       [1., 0., 0.],\n",
       "       [1., 0., 0.],\n",
       "       [1., 0., 0.],\n",
       "       [1., 0., 0.],\n",
       "       [1., 0., 0.],\n",
       "       [1., 0., 0.],\n",
       "       [1., 0., 0.],\n",
       "       [1., 0., 0.],\n",
       "       [1., 0., 0.],\n",
       "       [1., 0., 0.],\n",
       "       [1., 0., 0.],\n",
       "       [1., 0., 0.],\n",
       "       [1., 0., 0.],\n",
       "       [1., 0., 0.],\n",
       "       [1., 0., 0.],\n",
       "       [1., 0., 0.],\n",
       "       [1., 0., 0.],\n",
       "       [1., 0., 0.],\n",
       "       [1., 0., 0.],\n",
       "       [1., 0., 0.],\n",
       "       [1., 0., 0.],\n",
       "       [1., 0., 0.],\n",
       "       [1., 0., 0.],\n",
       "       [0., 1., 0.],\n",
       "       [0., 1., 0.],\n",
       "       [0., 1., 0.],\n",
       "       [0., 1., 0.],\n",
       "       [0., 1., 0.],\n",
       "       [0., 1., 0.],\n",
       "       [0., 1., 0.],\n",
       "       [0., 1., 0.],\n",
       "       [0., 1., 0.],\n",
       "       [0., 1., 0.],\n",
       "       [0., 1., 0.],\n",
       "       [0., 1., 0.],\n",
       "       [0., 1., 0.],\n",
       "       [0., 1., 0.],\n",
       "       [0., 1., 0.],\n",
       "       [0., 1., 0.],\n",
       "       [0., 1., 0.],\n",
       "       [0., 1., 0.],\n",
       "       [0., 1., 0.],\n",
       "       [0., 1., 0.],\n",
       "       [0., 1., 0.],\n",
       "       [0., 1., 0.],\n",
       "       [0., 1., 0.],\n",
       "       [0., 1., 0.],\n",
       "       [0., 1., 0.],\n",
       "       [0., 1., 0.],\n",
       "       [0., 1., 0.],\n",
       "       [0., 1., 0.],\n",
       "       [0., 1., 0.],\n",
       "       [0., 1., 0.],\n",
       "       [0., 1., 0.],\n",
       "       [0., 1., 0.],\n",
       "       [0., 1., 0.],\n",
       "       [0., 1., 0.],\n",
       "       [0., 1., 0.],\n",
       "       [0., 1., 0.],\n",
       "       [0., 1., 0.],\n",
       "       [0., 1., 0.],\n",
       "       [0., 1., 0.],\n",
       "       [0., 1., 0.],\n",
       "       [0., 1., 0.],\n",
       "       [0., 1., 0.],\n",
       "       [0., 1., 0.],\n",
       "       [0., 1., 0.],\n",
       "       [0., 1., 0.],\n",
       "       [0., 1., 0.],\n",
       "       [0., 1., 0.],\n",
       "       [0., 1., 0.],\n",
       "       [0., 1., 0.],\n",
       "       [0., 1., 0.],\n",
       "       [0., 0., 1.],\n",
       "       [0., 0., 1.],\n",
       "       [0., 0., 1.],\n",
       "       [0., 0., 1.],\n",
       "       [0., 0., 1.],\n",
       "       [0., 0., 1.],\n",
       "       [0., 0., 1.],\n",
       "       [0., 0., 1.],\n",
       "       [0., 0., 1.],\n",
       "       [0., 0., 1.],\n",
       "       [0., 0., 1.],\n",
       "       [0., 0., 1.],\n",
       "       [0., 0., 1.],\n",
       "       [0., 0., 1.],\n",
       "       [0., 0., 1.],\n",
       "       [0., 0., 1.],\n",
       "       [0., 0., 1.],\n",
       "       [0., 0., 1.],\n",
       "       [0., 0., 1.],\n",
       "       [0., 0., 1.],\n",
       "       [0., 0., 1.],\n",
       "       [0., 0., 1.],\n",
       "       [0., 0., 1.],\n",
       "       [0., 0., 1.],\n",
       "       [0., 0., 1.],\n",
       "       [0., 0., 1.],\n",
       "       [0., 0., 1.],\n",
       "       [0., 0., 1.],\n",
       "       [0., 0., 1.],\n",
       "       [0., 0., 1.],\n",
       "       [0., 0., 1.],\n",
       "       [0., 0., 1.],\n",
       "       [0., 0., 1.],\n",
       "       [0., 0., 1.],\n",
       "       [0., 0., 1.],\n",
       "       [0., 0., 1.],\n",
       "       [0., 0., 1.],\n",
       "       [0., 0., 1.],\n",
       "       [0., 0., 1.],\n",
       "       [0., 0., 1.],\n",
       "       [0., 0., 1.],\n",
       "       [0., 0., 1.],\n",
       "       [0., 0., 1.],\n",
       "       [0., 0., 1.],\n",
       "       [0., 0., 1.],\n",
       "       [0., 0., 1.],\n",
       "       [0., 0., 1.],\n",
       "       [0., 0., 1.],\n",
       "       [0., 0., 1.],\n",
       "       [0., 0., 1.]])"
      ]
     },
     "execution_count": 3,
     "metadata": {},
     "output_type": "execute_result"
    }
   ],
   "source": [
    "classe_dummy = to_categorical(classe)\n",
    "classe_dummy"
   ]
  },
  {
   "cell_type": "markdown",
   "metadata": {},
   "source": [
    "Criando treinamento"
   ]
  },
  {
   "cell_type": "code",
   "execution_count": 4,
   "metadata": {},
   "outputs": [],
   "source": [
    "x_treinamento, x_teste, y_treinamento, y_teste = train_test_split(previsores, classe_dummy, test_size=0.3, random_state=0)"
   ]
  },
  {
   "cell_type": "markdown",
   "metadata": {},
   "source": [
    "Normalizar os dados do treinamento"
   ]
  },
  {
   "cell_type": "code",
   "execution_count": 5,
   "metadata": {},
   "outputs": [],
   "source": [
    "# Normalização dos dados\n",
    "scaler = StandardScaler()\n",
    "x_treinamento = scaler.fit_transform(x_treinamento)\n",
    "x_teste = scaler.transform(x_teste)"
   ]
  },
  {
   "cell_type": "markdown",
   "metadata": {},
   "source": [
    "Criação da estrutura da rede neural com classe Sequencial"
   ]
  },
  {
   "cell_type": "code",
   "execution_count": 6,
   "metadata": {},
   "outputs": [],
   "source": [
    "modelo = Sequential()\n",
    "#Primeira camada oculta 5 neurônios e 4 neurônios de entrada\n",
    "modelo.add(Input(shape=(4,)))   # Forma de entrada com 4 características\n",
    "#Adicionando camada densa\n",
    "modelo.add(Dense(units=5, activation='relu'))\n",
    "Dropout(0.2)\n",
    "#Segunda camada oculta\n",
    "modelo.add(Dense(units=4, activation='relu'))\n",
    "Dropout(0.2)\n",
    "#Terceira camada oculta\n",
    "#Softmax por termos um problema com mais de duas classes\n",
    "modelo.add(Dense(units=3, activation= \"softmax\"))"
   ]
  },
  {
   "cell_type": "markdown",
   "metadata": {},
   "source": [
    "#Visualizar os dados da rede"
   ]
  },
  {
   "cell_type": "code",
   "execution_count": 7,
   "metadata": {},
   "outputs": [
    {
     "data": {
      "text/html": [
       "<pre style=\"white-space:pre;overflow-x:auto;line-height:normal;font-family:Menlo,'DejaVu Sans Mono',consolas,'Courier New',monospace\"><span style=\"font-weight: bold\">Model: \"sequential\"</span>\n",
       "</pre>\n"
      ],
      "text/plain": [
       "\u001b[1mModel: \"sequential\"\u001b[0m\n"
      ]
     },
     "metadata": {},
     "output_type": "display_data"
    },
    {
     "data": {
      "text/html": [
       "<pre style=\"white-space:pre;overflow-x:auto;line-height:normal;font-family:Menlo,'DejaVu Sans Mono',consolas,'Courier New',monospace\">┏━━━━━━━━━━━━━━━━━━━━━━━━━━━━━━━━━┳━━━━━━━━━━━━━━━━━━━━━━━━┳━━━━━━━━━━━━━━━┓\n",
       "┃<span style=\"font-weight: bold\"> Layer (type)                    </span>┃<span style=\"font-weight: bold\"> Output Shape           </span>┃<span style=\"font-weight: bold\">       Param # </span>┃\n",
       "┡━━━━━━━━━━━━━━━━━━━━━━━━━━━━━━━━━╇━━━━━━━━━━━━━━━━━━━━━━━━╇━━━━━━━━━━━━━━━┩\n",
       "│ dense (<span style=\"color: #0087ff; text-decoration-color: #0087ff\">Dense</span>)                   │ (<span style=\"color: #00d7ff; text-decoration-color: #00d7ff\">None</span>, <span style=\"color: #00af00; text-decoration-color: #00af00\">5</span>)              │            <span style=\"color: #00af00; text-decoration-color: #00af00\">25</span> │\n",
       "├─────────────────────────────────┼────────────────────────┼───────────────┤\n",
       "│ dense_1 (<span style=\"color: #0087ff; text-decoration-color: #0087ff\">Dense</span>)                 │ (<span style=\"color: #00d7ff; text-decoration-color: #00d7ff\">None</span>, <span style=\"color: #00af00; text-decoration-color: #00af00\">4</span>)              │            <span style=\"color: #00af00; text-decoration-color: #00af00\">24</span> │\n",
       "├─────────────────────────────────┼────────────────────────┼───────────────┤\n",
       "│ dense_2 (<span style=\"color: #0087ff; text-decoration-color: #0087ff\">Dense</span>)                 │ (<span style=\"color: #00d7ff; text-decoration-color: #00d7ff\">None</span>, <span style=\"color: #00af00; text-decoration-color: #00af00\">3</span>)              │            <span style=\"color: #00af00; text-decoration-color: #00af00\">15</span> │\n",
       "└─────────────────────────────────┴────────────────────────┴───────────────┘\n",
       "</pre>\n"
      ],
      "text/plain": [
       "┏━━━━━━━━━━━━━━━━━━━━━━━━━━━━━━━━━┳━━━━━━━━━━━━━━━━━━━━━━━━┳━━━━━━━━━━━━━━━┓\n",
       "┃\u001b[1m \u001b[0m\u001b[1mLayer (type)                   \u001b[0m\u001b[1m \u001b[0m┃\u001b[1m \u001b[0m\u001b[1mOutput Shape          \u001b[0m\u001b[1m \u001b[0m┃\u001b[1m \u001b[0m\u001b[1m      Param #\u001b[0m\u001b[1m \u001b[0m┃\n",
       "┡━━━━━━━━━━━━━━━━━━━━━━━━━━━━━━━━━╇━━━━━━━━━━━━━━━━━━━━━━━━╇━━━━━━━━━━━━━━━┩\n",
       "│ dense (\u001b[38;5;33mDense\u001b[0m)                   │ (\u001b[38;5;45mNone\u001b[0m, \u001b[38;5;34m5\u001b[0m)              │            \u001b[38;5;34m25\u001b[0m │\n",
       "├─────────────────────────────────┼────────────────────────┼───────────────┤\n",
       "│ dense_1 (\u001b[38;5;33mDense\u001b[0m)                 │ (\u001b[38;5;45mNone\u001b[0m, \u001b[38;5;34m4\u001b[0m)              │            \u001b[38;5;34m24\u001b[0m │\n",
       "├─────────────────────────────────┼────────────────────────┼───────────────┤\n",
       "│ dense_2 (\u001b[38;5;33mDense\u001b[0m)                 │ (\u001b[38;5;45mNone\u001b[0m, \u001b[38;5;34m3\u001b[0m)              │            \u001b[38;5;34m15\u001b[0m │\n",
       "└─────────────────────────────────┴────────────────────────┴───────────────┘\n"
      ]
     },
     "metadata": {},
     "output_type": "display_data"
    },
    {
     "data": {
      "text/html": [
       "<pre style=\"white-space:pre;overflow-x:auto;line-height:normal;font-family:Menlo,'DejaVu Sans Mono',consolas,'Courier New',monospace\"><span style=\"font-weight: bold\"> Total params: </span><span style=\"color: #00af00; text-decoration-color: #00af00\">64</span> (256.00 B)\n",
       "</pre>\n"
      ],
      "text/plain": [
       "\u001b[1m Total params: \u001b[0m\u001b[38;5;34m64\u001b[0m (256.00 B)\n"
      ]
     },
     "metadata": {},
     "output_type": "display_data"
    },
    {
     "data": {
      "text/html": [
       "<pre style=\"white-space:pre;overflow-x:auto;line-height:normal;font-family:Menlo,'DejaVu Sans Mono',consolas,'Courier New',monospace\"><span style=\"font-weight: bold\"> Trainable params: </span><span style=\"color: #00af00; text-decoration-color: #00af00\">64</span> (256.00 B)\n",
       "</pre>\n"
      ],
      "text/plain": [
       "\u001b[1m Trainable params: \u001b[0m\u001b[38;5;34m64\u001b[0m (256.00 B)\n"
      ]
     },
     "metadata": {},
     "output_type": "display_data"
    },
    {
     "data": {
      "text/html": [
       "<pre style=\"white-space:pre;overflow-x:auto;line-height:normal;font-family:Menlo,'DejaVu Sans Mono',consolas,'Courier New',monospace\"><span style=\"font-weight: bold\"> Non-trainable params: </span><span style=\"color: #00af00; text-decoration-color: #00af00\">0</span> (0.00 B)\n",
       "</pre>\n"
      ],
      "text/plain": [
       "\u001b[1m Non-trainable params: \u001b[0m\u001b[38;5;34m0\u001b[0m (0.00 B)\n"
      ]
     },
     "metadata": {},
     "output_type": "display_data"
    }
   ],
   "source": [
    "modelo.summary()"
   ]
  },
  {
   "cell_type": "markdown",
   "metadata": {},
   "source": [
    "Compilar e treinar o modelo"
   ]
  },
  {
   "cell_type": "code",
   "execution_count": 8,
   "metadata": {},
   "outputs": [],
   "source": [
    "early_stopping = EarlyStopping(monitor='val_loss', patience=50, restore_best_weights=True)\n",
    "modelo.compile(optimizer=\"adam\", loss=\"categorical_crossentropy\", metrics=[\"accuracy\"])"
   ]
  },
  {
   "cell_type": "code",
   "execution_count": 10,
   "metadata": {},
   "outputs": [
    {
     "name": "stdout",
     "output_type": "stream",
     "text": [
      "Epoch 1/100\n",
      "4/4 - 0s - 42ms/step - accuracy: 0.9810 - loss: 0.1183 - val_accuracy: 0.9778 - val_loss: 0.1565\n",
      "Epoch 2/100\n",
      "4/4 - 0s - 45ms/step - accuracy: 0.9810 - loss: 0.1175 - val_accuracy: 0.9778 - val_loss: 0.1546\n",
      "Epoch 3/100\n",
      "4/4 - 0s - 29ms/step - accuracy: 0.9810 - loss: 0.1167 - val_accuracy: 0.9778 - val_loss: 0.1533\n",
      "Epoch 4/100\n",
      "4/4 - 0s - 29ms/step - accuracy: 0.9810 - loss: 0.1160 - val_accuracy: 0.9778 - val_loss: 0.1524\n",
      "Epoch 5/100\n",
      "4/4 - 0s - 31ms/step - accuracy: 0.9810 - loss: 0.1152 - val_accuracy: 0.9778 - val_loss: 0.1518\n",
      "Epoch 6/100\n",
      "4/4 - 0s - 31ms/step - accuracy: 0.9810 - loss: 0.1144 - val_accuracy: 0.9778 - val_loss: 0.1510\n",
      "Epoch 7/100\n",
      "4/4 - 0s - 31ms/step - accuracy: 0.9810 - loss: 0.1136 - val_accuracy: 0.9778 - val_loss: 0.1494\n",
      "Epoch 8/100\n",
      "4/4 - 0s - 36ms/step - accuracy: 0.9810 - loss: 0.1130 - val_accuracy: 0.9778 - val_loss: 0.1479\n",
      "Epoch 9/100\n",
      "4/4 - 0s - 38ms/step - accuracy: 0.9810 - loss: 0.1123 - val_accuracy: 0.9778 - val_loss: 0.1469\n",
      "Epoch 10/100\n",
      "4/4 - 0s - 30ms/step - accuracy: 0.9810 - loss: 0.1116 - val_accuracy: 0.9778 - val_loss: 0.1464\n",
      "Epoch 11/100\n",
      "4/4 - 0s - 32ms/step - accuracy: 0.9810 - loss: 0.1109 - val_accuracy: 0.9778 - val_loss: 0.1461\n",
      "Epoch 12/100\n",
      "4/4 - 0s - 29ms/step - accuracy: 0.9810 - loss: 0.1103 - val_accuracy: 0.9778 - val_loss: 0.1458\n",
      "Epoch 13/100\n",
      "4/4 - 0s - 35ms/step - accuracy: 0.9810 - loss: 0.1099 - val_accuracy: 0.9778 - val_loss: 0.1461\n",
      "Epoch 14/100\n",
      "4/4 - 0s - 34ms/step - accuracy: 0.9810 - loss: 0.1090 - val_accuracy: 0.9778 - val_loss: 0.1454\n",
      "Epoch 15/100\n",
      "4/4 - 0s - 31ms/step - accuracy: 0.9810 - loss: 0.1083 - val_accuracy: 0.9778 - val_loss: 0.1445\n",
      "Epoch 16/100\n",
      "4/4 - 0s - 31ms/step - accuracy: 0.9810 - loss: 0.1077 - val_accuracy: 0.9778 - val_loss: 0.1435\n",
      "Epoch 17/100\n",
      "4/4 - 0s - 31ms/step - accuracy: 0.9810 - loss: 0.1074 - val_accuracy: 0.9778 - val_loss: 0.1433\n",
      "Epoch 18/100\n",
      "4/4 - 0s - 33ms/step - accuracy: 0.9810 - loss: 0.1065 - val_accuracy: 0.9778 - val_loss: 0.1420\n",
      "Epoch 19/100\n",
      "4/4 - 0s - 33ms/step - accuracy: 0.9810 - loss: 0.1060 - val_accuracy: 0.9778 - val_loss: 0.1410\n",
      "Epoch 20/100\n",
      "4/4 - 0s - 33ms/step - accuracy: 0.9810 - loss: 0.1052 - val_accuracy: 0.9778 - val_loss: 0.1406\n",
      "Epoch 21/100\n",
      "4/4 - 0s - 35ms/step - accuracy: 0.9810 - loss: 0.1047 - val_accuracy: 0.9778 - val_loss: 0.1401\n",
      "Epoch 22/100\n",
      "4/4 - 0s - 32ms/step - accuracy: 0.9810 - loss: 0.1041 - val_accuracy: 0.9778 - val_loss: 0.1391\n",
      "Epoch 23/100\n",
      "4/4 - 0s - 32ms/step - accuracy: 0.9810 - loss: 0.1035 - val_accuracy: 0.9778 - val_loss: 0.1383\n",
      "Epoch 24/100\n",
      "4/4 - 0s - 30ms/step - accuracy: 0.9810 - loss: 0.1030 - val_accuracy: 0.9778 - val_loss: 0.1376\n",
      "Epoch 25/100\n",
      "4/4 - 0s - 29ms/step - accuracy: 0.9810 - loss: 0.1024 - val_accuracy: 0.9778 - val_loss: 0.1367\n",
      "Epoch 26/100\n",
      "4/4 - 0s - 33ms/step - accuracy: 0.9810 - loss: 0.1019 - val_accuracy: 0.9778 - val_loss: 0.1361\n",
      "Epoch 27/100\n",
      "4/4 - 0s - 29ms/step - accuracy: 0.9810 - loss: 0.1012 - val_accuracy: 0.9778 - val_loss: 0.1343\n",
      "Epoch 28/100\n",
      "4/4 - 0s - 37ms/step - accuracy: 0.9810 - loss: 0.1007 - val_accuracy: 0.9778 - val_loss: 0.1324\n",
      "Epoch 29/100\n",
      "4/4 - 0s - 37ms/step - accuracy: 0.9810 - loss: 0.1000 - val_accuracy: 0.9778 - val_loss: 0.1309\n",
      "Epoch 30/100\n",
      "4/4 - 0s - 37ms/step - accuracy: 0.9810 - loss: 0.0994 - val_accuracy: 0.9778 - val_loss: 0.1293\n",
      "Epoch 31/100\n",
      "4/4 - 0s - 37ms/step - accuracy: 0.9810 - loss: 0.0989 - val_accuracy: 0.9778 - val_loss: 0.1277\n",
      "Epoch 32/100\n",
      "4/4 - 0s - 37ms/step - accuracy: 0.9810 - loss: 0.0985 - val_accuracy: 0.9778 - val_loss: 0.1262\n",
      "Epoch 33/100\n",
      "4/4 - 0s - 38ms/step - accuracy: 0.9810 - loss: 0.0981 - val_accuracy: 0.9778 - val_loss: 0.1250\n",
      "Epoch 34/100\n",
      "4/4 - 0s - 38ms/step - accuracy: 0.9810 - loss: 0.0977 - val_accuracy: 0.9778 - val_loss: 0.1241\n",
      "Epoch 35/100\n",
      "4/4 - 0s - 37ms/step - accuracy: 0.9810 - loss: 0.0971 - val_accuracy: 0.9778 - val_loss: 0.1235\n",
      "Epoch 36/100\n",
      "4/4 - 0s - 36ms/step - accuracy: 0.9810 - loss: 0.0966 - val_accuracy: 0.9778 - val_loss: 0.1233\n",
      "Epoch 37/100\n",
      "4/4 - 0s - 35ms/step - accuracy: 0.9810 - loss: 0.0960 - val_accuracy: 0.9778 - val_loss: 0.1230\n",
      "Epoch 38/100\n",
      "4/4 - 0s - 38ms/step - accuracy: 0.9810 - loss: 0.0955 - val_accuracy: 0.9778 - val_loss: 0.1224\n",
      "Epoch 39/100\n",
      "4/4 - 0s - 37ms/step - accuracy: 0.9810 - loss: 0.0950 - val_accuracy: 0.9778 - val_loss: 0.1225\n",
      "Epoch 40/100\n",
      "4/4 - 0s - 38ms/step - accuracy: 0.9810 - loss: 0.0944 - val_accuracy: 0.9778 - val_loss: 0.1223\n",
      "Epoch 41/100\n",
      "4/4 - 0s - 43ms/step - accuracy: 0.9810 - loss: 0.0939 - val_accuracy: 0.9778 - val_loss: 0.1222\n",
      "Epoch 42/100\n",
      "4/4 - 0s - 36ms/step - accuracy: 0.9810 - loss: 0.0935 - val_accuracy: 0.9778 - val_loss: 0.1219\n",
      "Epoch 43/100\n",
      "4/4 - 0s - 37ms/step - accuracy: 0.9810 - loss: 0.0932 - val_accuracy: 0.9778 - val_loss: 0.1220\n",
      "Epoch 44/100\n",
      "4/4 - 0s - 35ms/step - accuracy: 0.9810 - loss: 0.0927 - val_accuracy: 0.9778 - val_loss: 0.1216\n",
      "Epoch 45/100\n",
      "4/4 - 0s - 44ms/step - accuracy: 0.9810 - loss: 0.0923 - val_accuracy: 0.9778 - val_loss: 0.1203\n",
      "Epoch 46/100\n",
      "4/4 - 0s - 38ms/step - accuracy: 0.9810 - loss: 0.0918 - val_accuracy: 0.9778 - val_loss: 0.1199\n",
      "Epoch 47/100\n",
      "4/4 - 0s - 35ms/step - accuracy: 0.9810 - loss: 0.0913 - val_accuracy: 0.9778 - val_loss: 0.1188\n",
      "Epoch 48/100\n",
      "4/4 - 0s - 34ms/step - accuracy: 0.9810 - loss: 0.0910 - val_accuracy: 0.9778 - val_loss: 0.1175\n",
      "Epoch 49/100\n",
      "4/4 - 0s - 33ms/step - accuracy: 0.9810 - loss: 0.0904 - val_accuracy: 0.9778 - val_loss: 0.1163\n",
      "Epoch 50/100\n",
      "4/4 - 0s - 33ms/step - accuracy: 0.9810 - loss: 0.0900 - val_accuracy: 0.9778 - val_loss: 0.1149\n",
      "Epoch 51/100\n",
      "4/4 - 0s - 31ms/step - accuracy: 0.9810 - loss: 0.0897 - val_accuracy: 0.9778 - val_loss: 0.1145\n",
      "Epoch 52/100\n",
      "4/4 - 0s - 31ms/step - accuracy: 0.9810 - loss: 0.0892 - val_accuracy: 0.9778 - val_loss: 0.1136\n",
      "Epoch 53/100\n",
      "4/4 - 0s - 34ms/step - accuracy: 0.9810 - loss: 0.0888 - val_accuracy: 0.9778 - val_loss: 0.1125\n",
      "Epoch 54/100\n",
      "4/4 - 0s - 33ms/step - accuracy: 0.9810 - loss: 0.0887 - val_accuracy: 0.9778 - val_loss: 0.1110\n",
      "Epoch 55/100\n",
      "4/4 - 0s - 33ms/step - accuracy: 0.9810 - loss: 0.0884 - val_accuracy: 0.9778 - val_loss: 0.1101\n",
      "Epoch 56/100\n",
      "4/4 - 0s - 34ms/step - accuracy: 0.9714 - loss: 0.0881 - val_accuracy: 0.9778 - val_loss: 0.1097\n",
      "Epoch 57/100\n",
      "4/4 - 0s - 35ms/step - accuracy: 0.9810 - loss: 0.0877 - val_accuracy: 0.9778 - val_loss: 0.1096\n",
      "Epoch 58/100\n",
      "4/4 - 0s - 36ms/step - accuracy: 0.9810 - loss: 0.0872 - val_accuracy: 0.9778 - val_loss: 0.1096\n",
      "Epoch 59/100\n",
      "4/4 - 0s - 36ms/step - accuracy: 0.9810 - loss: 0.0866 - val_accuracy: 0.9778 - val_loss: 0.1091\n",
      "Epoch 60/100\n",
      "4/4 - 0s - 38ms/step - accuracy: 0.9810 - loss: 0.0862 - val_accuracy: 0.9778 - val_loss: 0.1089\n",
      "Epoch 61/100\n",
      "4/4 - 0s - 38ms/step - accuracy: 0.9810 - loss: 0.0858 - val_accuracy: 0.9778 - val_loss: 0.1085\n",
      "Epoch 62/100\n",
      "4/4 - 0s - 37ms/step - accuracy: 0.9810 - loss: 0.0853 - val_accuracy: 0.9778 - val_loss: 0.1083\n",
      "Epoch 63/100\n",
      "4/4 - 0s - 35ms/step - accuracy: 0.9810 - loss: 0.0850 - val_accuracy: 0.9778 - val_loss: 0.1084\n",
      "Epoch 64/100\n",
      "4/4 - 0s - 37ms/step - accuracy: 0.9810 - loss: 0.0845 - val_accuracy: 0.9778 - val_loss: 0.1084\n",
      "Epoch 65/100\n",
      "4/4 - 0s - 37ms/step - accuracy: 0.9810 - loss: 0.0840 - val_accuracy: 0.9778 - val_loss: 0.1085\n",
      "Epoch 66/100\n",
      "4/4 - 0s - 38ms/step - accuracy: 0.9810 - loss: 0.0836 - val_accuracy: 0.9778 - val_loss: 0.1085\n",
      "Epoch 67/100\n",
      "4/4 - 0s - 37ms/step - accuracy: 0.9810 - loss: 0.0832 - val_accuracy: 0.9778 - val_loss: 0.1082\n",
      "Epoch 68/100\n",
      "4/4 - 0s - 36ms/step - accuracy: 0.9810 - loss: 0.0828 - val_accuracy: 0.9778 - val_loss: 0.1080\n",
      "Epoch 69/100\n",
      "4/4 - 0s - 36ms/step - accuracy: 0.9810 - loss: 0.0825 - val_accuracy: 0.9778 - val_loss: 0.1080\n",
      "Epoch 70/100\n",
      "4/4 - 0s - 37ms/step - accuracy: 0.9810 - loss: 0.0822 - val_accuracy: 0.9778 - val_loss: 0.1077\n",
      "Epoch 71/100\n",
      "4/4 - 0s - 36ms/step - accuracy: 0.9810 - loss: 0.0818 - val_accuracy: 0.9778 - val_loss: 0.1075\n",
      "Epoch 72/100\n",
      "4/4 - 0s - 35ms/step - accuracy: 0.9810 - loss: 0.0815 - val_accuracy: 0.9778 - val_loss: 0.1070\n",
      "Epoch 73/100\n",
      "4/4 - 0s - 35ms/step - accuracy: 0.9810 - loss: 0.0809 - val_accuracy: 0.9778 - val_loss: 0.1054\n",
      "Epoch 74/100\n",
      "4/4 - 0s - 37ms/step - accuracy: 0.9810 - loss: 0.0806 - val_accuracy: 0.9778 - val_loss: 0.1039\n",
      "Epoch 75/100\n",
      "4/4 - 0s - 38ms/step - accuracy: 0.9810 - loss: 0.0806 - val_accuracy: 0.9778 - val_loss: 0.1026\n",
      "Epoch 76/100\n",
      "4/4 - 0s - 35ms/step - accuracy: 0.9810 - loss: 0.0804 - val_accuracy: 0.9778 - val_loss: 0.1020\n",
      "Epoch 77/100\n",
      "4/4 - 0s - 33ms/step - accuracy: 0.9810 - loss: 0.0802 - val_accuracy: 0.9778 - val_loss: 0.1017\n",
      "Epoch 78/100\n",
      "4/4 - 0s - 34ms/step - accuracy: 0.9810 - loss: 0.0798 - val_accuracy: 0.9778 - val_loss: 0.1017\n",
      "Epoch 79/100\n",
      "4/4 - 0s - 35ms/step - accuracy: 0.9810 - loss: 0.0794 - val_accuracy: 0.9778 - val_loss: 0.1019\n",
      "Epoch 80/100\n",
      "4/4 - 0s - 33ms/step - accuracy: 0.9810 - loss: 0.0789 - val_accuracy: 0.9778 - val_loss: 0.1024\n",
      "Epoch 81/100\n",
      "4/4 - 0s - 34ms/step - accuracy: 0.9810 - loss: 0.0786 - val_accuracy: 0.9778 - val_loss: 0.1027\n",
      "Epoch 82/100\n",
      "4/4 - 0s - 35ms/step - accuracy: 0.9810 - loss: 0.0782 - val_accuracy: 0.9778 - val_loss: 0.1028\n",
      "Epoch 83/100\n",
      "4/4 - 0s - 33ms/step - accuracy: 0.9810 - loss: 0.0780 - val_accuracy: 0.9778 - val_loss: 0.1029\n",
      "Epoch 84/100\n",
      "4/4 - 0s - 32ms/step - accuracy: 0.9810 - loss: 0.0777 - val_accuracy: 0.9778 - val_loss: 0.1023\n",
      "Epoch 85/100\n",
      "4/4 - 0s - 32ms/step - accuracy: 0.9810 - loss: 0.0774 - val_accuracy: 0.9778 - val_loss: 0.1021\n",
      "Epoch 86/100\n",
      "4/4 - 0s - 31ms/step - accuracy: 0.9810 - loss: 0.0771 - val_accuracy: 0.9778 - val_loss: 0.1013\n",
      "Epoch 87/100\n",
      "4/4 - 0s - 32ms/step - accuracy: 0.9810 - loss: 0.0768 - val_accuracy: 0.9778 - val_loss: 0.1005\n",
      "Epoch 88/100\n",
      "4/4 - 0s - 32ms/step - accuracy: 0.9810 - loss: 0.0767 - val_accuracy: 0.9778 - val_loss: 0.0994\n",
      "Epoch 89/100\n",
      "4/4 - 0s - 36ms/step - accuracy: 0.9810 - loss: 0.0764 - val_accuracy: 0.9778 - val_loss: 0.0990\n",
      "Epoch 90/100\n",
      "4/4 - 0s - 32ms/step - accuracy: 0.9810 - loss: 0.0762 - val_accuracy: 0.9778 - val_loss: 0.0994\n",
      "Epoch 91/100\n",
      "4/4 - 0s - 34ms/step - accuracy: 0.9810 - loss: 0.0757 - val_accuracy: 0.9778 - val_loss: 0.0995\n",
      "Epoch 92/100\n",
      "4/4 - 0s - 32ms/step - accuracy: 0.9810 - loss: 0.0756 - val_accuracy: 0.9778 - val_loss: 0.0997\n",
      "Epoch 93/100\n",
      "4/4 - 0s - 31ms/step - accuracy: 0.9810 - loss: 0.0752 - val_accuracy: 0.9778 - val_loss: 0.0994\n",
      "Epoch 94/100\n",
      "4/4 - 0s - 32ms/step - accuracy: 0.9810 - loss: 0.0749 - val_accuracy: 0.9778 - val_loss: 0.0990\n",
      "Epoch 95/100\n",
      "4/4 - 0s - 30ms/step - accuracy: 0.9810 - loss: 0.0746 - val_accuracy: 0.9778 - val_loss: 0.0986\n",
      "Epoch 96/100\n",
      "4/4 - 0s - 32ms/step - accuracy: 0.9810 - loss: 0.0743 - val_accuracy: 0.9778 - val_loss: 0.0986\n",
      "Epoch 97/100\n",
      "4/4 - 0s - 34ms/step - accuracy: 0.9810 - loss: 0.0741 - val_accuracy: 0.9778 - val_loss: 0.0981\n",
      "Epoch 98/100\n",
      "4/4 - 0s - 31ms/step - accuracy: 0.9810 - loss: 0.0739 - val_accuracy: 0.9778 - val_loss: 0.0971\n",
      "Epoch 99/100\n",
      "4/4 - 0s - 33ms/step - accuracy: 0.9810 - loss: 0.0736 - val_accuracy: 0.9778 - val_loss: 0.0964\n",
      "Epoch 100/100\n",
      "4/4 - 0s - 33ms/step - accuracy: 0.9810 - loss: 0.0733 - val_accuracy: 0.9778 - val_loss: 0.0962\n"
     ]
    },
    {
     "data": {
      "text/plain": [
       "<keras.src.callbacks.history.History at 0x22852657250>"
      ]
     },
     "execution_count": 10,
     "metadata": {},
     "output_type": "execute_result"
    }
   ],
   "source": [
    "#Treinamento\n",
    "modelo.fit(x_treinamento, y_treinamento, epochs= 100, validation_data= (x_teste, y_teste), verbose=2, callbacks=[early_stopping])"
   ]
  },
  {
   "cell_type": "code",
   "execution_count": 11,
   "metadata": {},
   "outputs": [
    {
     "name": "stdout",
     "output_type": "stream",
     "text": [
      "\u001b[1m2/2\u001b[0m \u001b[32m━━━━━━━━━━━━━━━━━━━━\u001b[0m\u001b[37m\u001b[0m \u001b[1m0s\u001b[0m 67ms/step\n"
     ]
    },
    {
     "data": {
      "text/plain": [
       "array([2, 1, 0, 2, 0, 2, 0, 1, 1, 1, 2, 1, 1, 1, 1, 0, 1, 1, 0, 0, 2, 1,\n",
       "       0, 0, 2, 0, 0, 1, 1, 0, 2, 1, 0, 2, 2, 1, 0, 2, 1, 1, 2, 0, 2, 0,\n",
       "       0])"
      ]
     },
     "execution_count": 11,
     "metadata": {},
     "output_type": "execute_result"
    }
   ],
   "source": [
    "previsoes = modelo.predict(x_teste)\n",
    "\n",
    "# Converte para o índice da classe com maior probabilidade\n",
    "y_previsoes_matrix = np.argmax(previsoes, axis=1)\n",
    "\n",
    "# Extrai os valores originais das classes de teste\n",
    "y_teste_matrix = np.argmax(y_teste, axis=1)\n",
    "\n",
    "y_previsoes_matrix"
   ]
  },
  {
   "cell_type": "code",
   "execution_count": 12,
   "metadata": {},
   "outputs": [],
   "source": [
    "y_teste_matrix = [np.argmax(t) for t in y_teste]\n",
    "y_previsoes_matrix = [np.argmax(t) for t in previsoes]"
   ]
  },
  {
   "cell_type": "markdown",
   "metadata": {},
   "source": [
    "Relatório de desempenho"
   ]
  },
  {
   "cell_type": "code",
   "execution_count": 13,
   "metadata": {},
   "outputs": [
    {
     "name": "stdout",
     "output_type": "stream",
     "text": [
      "\n",
      "Accuracy:\n",
      "0.9777777777777777\n",
      "\n",
      "F1-Score:\n",
      "0.9779434092477569\n",
      "\n",
      "Relatório de Classificação:\n",
      "              precision    recall  f1-score   support\n",
      "\n",
      "           0       1.00      1.00      1.00        16\n",
      "           1       1.00      0.94      0.97        18\n",
      "           2       0.92      1.00      0.96        11\n",
      "\n",
      "    accuracy                           0.98        45\n",
      "   macro avg       0.97      0.98      0.98        45\n",
      "weighted avg       0.98      0.98      0.98        45\n",
      "\n"
     ]
    }
   ],
   "source": [
    "acerto = accuracy_score(y_teste_matrix, y_previsoes_matrix)\n",
    "\n",
    "print(\"\\nAccuracy:\")\n",
    "print(acerto)\n",
    "print(\"\\nF1-Score:\")\n",
    "print(f1_score(y_teste_matrix, y_previsoes_matrix, average='weighted'))\n",
    "print(\"\\nRelatório de Classificação:\")\n",
    "print(classification_report(y_teste_matrix, y_previsoes_matrix))\n"
   ]
  },
  {
   "cell_type": "markdown",
   "metadata": {},
   "source": [
    "Matriz de confusao"
   ]
  },
  {
   "cell_type": "code",
   "execution_count": 14,
   "metadata": {},
   "outputs": [
    {
     "data": {
      "image/png": "[encoded data removed]",
      "text/plain": [
       "<Figure size 640x480 with 2 Axes>"
      ]
     },
     "metadata": {},
     "output_type": "display_data"
    }
   ],
   "source": [
    "# Matriz de confusão\n",
    "confusao = confusion_matrix(y_teste_matrix, y_previsoes_matrix)\n",
    "\n",
    "sns.heatmap(confusao, annot=True, fmt=\"d\", cmap=\"Blues\", xticklabels=base.target_names, yticklabels=base.target_names)\n",
    "plt.xlabel(\"Classe Predita\")\n",
    "plt.ylabel(\"Classe Real\")\n",
    "plt.title(\"Matriz de Confusão\")\n",
    "plt.show()"
   ]
  }
 ],
 "metadata": {
  "kernelspec": {
   "display_name": "venv",
   "language": "python",
   "name": "python3"
  },
  "language_info": {
   "codemirror_mode": {
    "name": "ipython",
    "version": 3
   },
   "file_extension": ".py",
   "mimetype": "text/x-python",
   "name": "python",
   "nbconvert_exporter": "python",
   "pygments_lexer": "ipython3",
   "version": "3.9.13"
  }
 },
 "nbformat": 4,
 "nbformat_minor": 2
}
